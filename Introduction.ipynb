{
 "cells": [
  {
   "cell_type": "markdown",
   "metadata": {},
   "source": [
    "# **Recommendation of best place to setup a cafe/juice bar in Toronto**"
   ]
  },
  {
   "cell_type": "markdown",
   "metadata": {},
   "source": [
    "## **Introduction**"
   ]
  },
  {
   "cell_type": "markdown",
   "metadata": {},
   "source": [
    "**1.Background**\n",
    "\n",
    "Toronto is a major city in the world & has a big area with several neighborhoods. All the neighborhoods have many different venues such as restaurants, pubs etc. The client is an outsider and wishes to get a recommendation on the best place to setup a small cafe or a juice bar. The major requirement is to find the best suited neighborhood for the client to flourish the business. It is well understood that many coffes shops such as Starbucks are available in Toronto. By knowing a location which will help the client to avoid unbeatable competetion & other valuable insights he will be able to make a well informed decision."
   ]
  },
  {
   "cell_type": "markdown",
   "metadata": {},
   "source": [
    "**2. Problem**\n",
    "\n",
    "Data that might contribute to determining the best recommendation place for seting up a cafe/juice bar in Toronto can be the analysis of the availabilty of cafes, restaurants in all the neighborhoods of Toronto. Insights to what sort of people are in a particular area (ourgoing or not) can also be used to determine the best neighborhood for this problem. The project aims to show the best location for the client to setup his business based on these data."
   ]
  },
  {
   "cell_type": "markdown",
   "metadata": {},
   "source": [
    "**3. Interest**\n",
    "\n",
    "The client is an outsider to Toronto. He requires to find out the best location where he can setup his new business without losing money. He also has a family & hence wishes to make the best decision when setting up this business. By making a very informed decision he is bound to avoid making a loss on his investment"
   ]
  },
  {
   "cell_type": "code",
   "execution_count": null,
   "metadata": {},
   "outputs": [],
   "source": []
  }
 ],
 "metadata": {
  "kernelspec": {
   "display_name": "Python",
   "language": "python",
   "name": "conda-env-python-py"
  },
  "language_info": {
   "codemirror_mode": {
    "name": "ipython",
    "version": 3
   },
   "file_extension": ".py",
   "mimetype": "text/x-python",
   "name": "python",
   "nbconvert_exporter": "python",
   "pygments_lexer": "ipython3",
   "version": "3.6.10"
  }
 },
 "nbformat": 4,
 "nbformat_minor": 4
}

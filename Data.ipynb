{
 "cells": [
  {
   "cell_type": "markdown",
   "metadata": {},
   "source": [
    "# Data Acquisition & Cleaning"
   ]
  },
  {
   "cell_type": "markdown",
   "metadata": {},
   "source": [
    "**1. Data Sources**"
   ]
  },
  {
   "cell_type": "markdown",
   "metadata": {},
   "source": [
    "For this problem we would require data regarding all the neighborhoods in Toronto & the details of all the places for eating in these areas. In the entire length of this project I have used the word eatery to indicate place which can fulfill the clients requirement in some way. (Restaurants, Cafes, Food Joints all have been considered as eateries).\n",
    "\n",
    "Accordingly the required data requirements have been extracted from the following sources;\n",
    "\n",
    "* Neighborhood data with Postal Codes; From Wikipage \"https://en.wikipedia.org/wiki/List_of_postal_codes_of_Canada:_M\"\n",
    "* Venues data; Foursquare \n",
    "* Longitudes & Latitudes of Toronto Neighborhoods; CSV file provided by Coursera 'http://cocl.us/Geospatial_data'\n",
    "* Longitudes & Latitudes of Toronto; from geopy package"
   ]
  },
  {
   "cell_type": "markdown",
   "metadata": {},
   "source": [
    "The venues dataset doesn't provide any detailed insights into the venues, including reviews, popularity etc. But this dataset can be used to identify all venues within a certain neighborhood."
   ]
  },
  {
   "cell_type": "markdown",
   "metadata": {},
   "source": [
    "**2. Data Cleansing**"
   ]
  },
  {
   "cell_type": "markdown",
   "metadata": {},
   "source": [
    "Initially the Neighborhood data has to be extracted from the wiki table & scraped. I have used python coding for the web scraping. This table scraped from the wiki page had to be adjusted to provide me with the required data to be used for the project. \n",
    "\n",
    "The rows containing 'Not assigned' in the Boroughs column was removed as it was of no use to the analysis. The table was also checked afterwards to see if there were any missing values, for which there were none.This table extracted contained details of areas other than the major parts of Toronto. Therefore this table also had to be reduced to include only the relevant data \n",
    "\n",
    "In this project as we are using Foursquare API to get all veue data it is important to get all coordinate details of the neighborhoods to be analysed. This was done by joining the neighborhood details table with the csv file containing the coordinates of the neighborhood of Toronto to get the relevant coordinate details.\n"
   ]
  },
  {
   "cell_type": "markdown",
   "metadata": {},
   "source": [
    "**3. Data Selection**"
   ]
  },
  {
   "cell_type": "markdown",
   "metadata": {},
   "source": [
    "After the initial cleaning there was 39 rows with 6 columns. The objective of the project is to provide the best recommendation for the client in order to start the business.\n",
    "\n",
    "All the venues which were contained in the neighborhood was obtained from the Foursquare dataset. The Venue category is used for the analysis of data in this project as it provides a better insight regarding the venue. In this project 1605 venues were available to carry out the analysis based on their coordinates of location.\n",
    "\n",
    "Venue categories was grouped to the neighborhoods & then the proportions of a venue category to exist in a neighborhood was analyzed. There were 228 unique venue categories. It is from this Data that the final analysis was calculated upon.\n",
    "\n",
    "When initializing the concept for analyzing & selecting data for the project some key assumptions were made;\n",
    "* All venue details in a neighborhood have been captured by the foursquare dataset\n",
    "* People residing/ or using any facility in a certain neighborhood will prefer to dine/eat/drink in that neighborhood\n",
    "* All data captured in foursquare dataset comprises detail of actively used venues\n"
   ]
  },
  {
   "cell_type": "code",
   "execution_count": null,
   "metadata": {},
   "outputs": [],
   "source": []
  }
 ],
 "metadata": {
  "kernelspec": {
   "display_name": "Python",
   "language": "python",
   "name": "conda-env-python-py"
  },
  "language_info": {
   "codemirror_mode": {
    "name": "ipython",
    "version": 3
   },
   "file_extension": ".py",
   "mimetype": "text/x-python",
   "name": "python",
   "nbconvert_exporter": "python",
   "pygments_lexer": "ipython3",
   "version": "3.6.10"
  }
 },
 "nbformat": 4,
 "nbformat_minor": 4
}
